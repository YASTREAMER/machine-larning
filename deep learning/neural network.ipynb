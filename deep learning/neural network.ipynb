{
 "cells": [
  {
   "cell_type": "code",
   "execution_count": 16,
   "id": "5908e4b8",
   "metadata": {},
   "outputs": [],
   "source": [
    "import tensorflow as tf\n",
    "from tensorflow import keras\n",
    "import matplotlib.pyplot as plt\n",
    "import numpy as np\n",
    "%matplotlib inline"
   ]
  },
  {
   "cell_type": "code",
   "execution_count": 17,
   "id": "b2816890",
   "metadata": {},
   "outputs": [],
   "source": [
    "(X_train,y_train) , (X_test,y_test)= keras.datasets.mnist.load_data()"
   ]
  },
  {
   "cell_type": "code",
   "execution_count": 18,
   "id": "100a2b44",
   "metadata": {},
   "outputs": [
    {
     "data": {
      "text/plain": [
       "60000"
      ]
     },
     "execution_count": 18,
     "metadata": {},
     "output_type": "execute_result"
    }
   ],
   "source": [
    "len(X_train)"
   ]
  },
  {
   "cell_type": "code",
   "execution_count": 19,
   "id": "d1883170",
   "metadata": {},
   "outputs": [
    {
     "data": {
      "text/plain": [
       "10000"
      ]
     },
     "execution_count": 19,
     "metadata": {},
     "output_type": "execute_result"
    }
   ],
   "source": [
    "len(X_test)"
   ]
  },
  {
   "cell_type": "code",
   "execution_count": 20,
   "id": "b8b81812",
   "metadata": {},
   "outputs": [
    {
     "data": {
      "text/plain": [
       "(28, 28)"
      ]
     },
     "execution_count": 20,
     "metadata": {},
     "output_type": "execute_result"
    }
   ],
   "source": [
    "X_train[0].shape"
   ]
  },
  {
   "cell_type": "code",
   "execution_count": 21,
   "id": "2d252697",
   "metadata": {},
   "outputs": [
    {
     "data": {
      "text/plain": [
       "array([[  0,   0,   0,   0,   0,   0,   0,   0,   0,   0,   0,   0,   0,\n",
       "          0,   0,   0,   0,   0,   0,   0,   0,   0,   0,   0,   0,   0,\n",
       "          0,   0],\n",
       "       [  0,   0,   0,   0,   0,   0,   0,   0,   0,   0,   0,   0,   0,\n",
       "          0,   0,   0,   0,   0,   0,   0,   0,   0,   0,   0,   0,   0,\n",
       "          0,   0],\n",
       "       [  0,   0,   0,   0,   0,   0,   0,   0,   0,   0,   0,   0,   0,\n",
       "          0,   0,   0,   0,   0,   0,   0,   0,   0,   0,   0,   0,   0,\n",
       "          0,   0],\n",
       "       [  0,   0,   0,   0,   0,   0,   0,   0,   0,   0,   0,   0,   0,\n",
       "          0,   0,   0,   0,   0,   0,   0,   0,   0,   0,   0,   0,   0,\n",
       "          0,   0],\n",
       "       [  0,   0,   0,   0,   0,   0,   0,   0,   0,   0,   0,   0,   0,\n",
       "          0,   0,   0,   0,   0,   0,   0,   0,   0,   0,   0,   0,   0,\n",
       "          0,   0],\n",
       "       [  0,   0,   0,   0,   0,   0,   0,   0,   0,   0,   0,   0,   3,\n",
       "         18,  18,  18, 126, 136, 175,  26, 166, 255, 247, 127,   0,   0,\n",
       "          0,   0],\n",
       "       [  0,   0,   0,   0,   0,   0,   0,   0,  30,  36,  94, 154, 170,\n",
       "        253, 253, 253, 253, 253, 225, 172, 253, 242, 195,  64,   0,   0,\n",
       "          0,   0],\n",
       "       [  0,   0,   0,   0,   0,   0,   0,  49, 238, 253, 253, 253, 253,\n",
       "        253, 253, 253, 253, 251,  93,  82,  82,  56,  39,   0,   0,   0,\n",
       "          0,   0],\n",
       "       [  0,   0,   0,   0,   0,   0,   0,  18, 219, 253, 253, 253, 253,\n",
       "        253, 198, 182, 247, 241,   0,   0,   0,   0,   0,   0,   0,   0,\n",
       "          0,   0],\n",
       "       [  0,   0,   0,   0,   0,   0,   0,   0,  80, 156, 107, 253, 253,\n",
       "        205,  11,   0,  43, 154,   0,   0,   0,   0,   0,   0,   0,   0,\n",
       "          0,   0],\n",
       "       [  0,   0,   0,   0,   0,   0,   0,   0,   0,  14,   1, 154, 253,\n",
       "         90,   0,   0,   0,   0,   0,   0,   0,   0,   0,   0,   0,   0,\n",
       "          0,   0],\n",
       "       [  0,   0,   0,   0,   0,   0,   0,   0,   0,   0,   0, 139, 253,\n",
       "        190,   2,   0,   0,   0,   0,   0,   0,   0,   0,   0,   0,   0,\n",
       "          0,   0],\n",
       "       [  0,   0,   0,   0,   0,   0,   0,   0,   0,   0,   0,  11, 190,\n",
       "        253,  70,   0,   0,   0,   0,   0,   0,   0,   0,   0,   0,   0,\n",
       "          0,   0],\n",
       "       [  0,   0,   0,   0,   0,   0,   0,   0,   0,   0,   0,   0,  35,\n",
       "        241, 225, 160, 108,   1,   0,   0,   0,   0,   0,   0,   0,   0,\n",
       "          0,   0],\n",
       "       [  0,   0,   0,   0,   0,   0,   0,   0,   0,   0,   0,   0,   0,\n",
       "         81, 240, 253, 253, 119,  25,   0,   0,   0,   0,   0,   0,   0,\n",
       "          0,   0],\n",
       "       [  0,   0,   0,   0,   0,   0,   0,   0,   0,   0,   0,   0,   0,\n",
       "          0,  45, 186, 253, 253, 150,  27,   0,   0,   0,   0,   0,   0,\n",
       "          0,   0],\n",
       "       [  0,   0,   0,   0,   0,   0,   0,   0,   0,   0,   0,   0,   0,\n",
       "          0,   0,  16,  93, 252, 253, 187,   0,   0,   0,   0,   0,   0,\n",
       "          0,   0],\n",
       "       [  0,   0,   0,   0,   0,   0,   0,   0,   0,   0,   0,   0,   0,\n",
       "          0,   0,   0,   0, 249, 253, 249,  64,   0,   0,   0,   0,   0,\n",
       "          0,   0],\n",
       "       [  0,   0,   0,   0,   0,   0,   0,   0,   0,   0,   0,   0,   0,\n",
       "          0,  46, 130, 183, 253, 253, 207,   2,   0,   0,   0,   0,   0,\n",
       "          0,   0],\n",
       "       [  0,   0,   0,   0,   0,   0,   0,   0,   0,   0,   0,   0,  39,\n",
       "        148, 229, 253, 253, 253, 250, 182,   0,   0,   0,   0,   0,   0,\n",
       "          0,   0],\n",
       "       [  0,   0,   0,   0,   0,   0,   0,   0,   0,   0,  24, 114, 221,\n",
       "        253, 253, 253, 253, 201,  78,   0,   0,   0,   0,   0,   0,   0,\n",
       "          0,   0],\n",
       "       [  0,   0,   0,   0,   0,   0,   0,   0,  23,  66, 213, 253, 253,\n",
       "        253, 253, 198,  81,   2,   0,   0,   0,   0,   0,   0,   0,   0,\n",
       "          0,   0],\n",
       "       [  0,   0,   0,   0,   0,   0,  18, 171, 219, 253, 253, 253, 253,\n",
       "        195,  80,   9,   0,   0,   0,   0,   0,   0,   0,   0,   0,   0,\n",
       "          0,   0],\n",
       "       [  0,   0,   0,   0,  55, 172, 226, 253, 253, 253, 253, 244, 133,\n",
       "         11,   0,   0,   0,   0,   0,   0,   0,   0,   0,   0,   0,   0,\n",
       "          0,   0],\n",
       "       [  0,   0,   0,   0, 136, 253, 253, 253, 212, 135, 132,  16,   0,\n",
       "          0,   0,   0,   0,   0,   0,   0,   0,   0,   0,   0,   0,   0,\n",
       "          0,   0],\n",
       "       [  0,   0,   0,   0,   0,   0,   0,   0,   0,   0,   0,   0,   0,\n",
       "          0,   0,   0,   0,   0,   0,   0,   0,   0,   0,   0,   0,   0,\n",
       "          0,   0],\n",
       "       [  0,   0,   0,   0,   0,   0,   0,   0,   0,   0,   0,   0,   0,\n",
       "          0,   0,   0,   0,   0,   0,   0,   0,   0,   0,   0,   0,   0,\n",
       "          0,   0],\n",
       "       [  0,   0,   0,   0,   0,   0,   0,   0,   0,   0,   0,   0,   0,\n",
       "          0,   0,   0,   0,   0,   0,   0,   0,   0,   0,   0,   0,   0,\n",
       "          0,   0]], dtype=uint8)"
      ]
     },
     "execution_count": 21,
     "metadata": {},
     "output_type": "execute_result"
    }
   ],
   "source": [
    "X_train[0]"
   ]
  },
  {
   "cell_type": "code",
   "execution_count": 22,
   "id": "c5c33273",
   "metadata": {},
   "outputs": [
    {
     "data": {
      "text/plain": [
       "<matplotlib.image.AxesImage at 0x1a6e9eb0040>"
      ]
     },
     "execution_count": 22,
     "metadata": {},
     "output_type": "execute_result"
    },
    {
     "data": {
      "image/png": "[encoded data removed]",
      "text/plain": [
       "<Figure size 288x288 with 1 Axes>"
      ]
     },
     "metadata": {
      "needs_background": "light"
     },
     "output_type": "display_data"
    }
   ],
   "source": [
    "plt.matshow(X_train[2])"
   ]
  },
  {
   "cell_type": "code",
   "execution_count": 23,
   "id": "d4d8a578",
   "metadata": {},
   "outputs": [
    {
     "data": {
      "text/plain": [
       "4"
      ]
     },
     "execution_count": 23,
     "metadata": {},
     "output_type": "execute_result"
    }
   ],
   "source": [
    "y_train[2]"
   ]
  },
  {
   "cell_type": "code",
   "execution_count": 24,
   "id": "6b231fd4",
   "metadata": {},
   "outputs": [
    {
     "data": {
      "text/plain": [
       "array([5, 0, 4, 1, 9, 2, 1, 3, 1, 4, 3, 5, 3, 6, 1, 7, 2, 8, 6, 9],\n",
       "      dtype=uint8)"
      ]
     },
     "execution_count": 24,
     "metadata": {},
     "output_type": "execute_result"
    }
   ],
   "source": [
    "y_train[:20]"
   ]
  },
  {
   "cell_type": "code",
   "execution_count": 25,
   "id": "705519d4",
   "metadata": {},
   "outputs": [],
   "source": [
    "X_train=X_train/255\n",
    "X_test=X_test/255"
   ]
  },
  {
   "cell_type": "code",
   "execution_count": 26,
   "id": "a18d5451",
   "metadata": {},
   "outputs": [
    {
     "data": {
      "text/plain": [
       "array([[0., 0., 0., ..., 0., 0., 0.],\n",
       "       [0., 0., 0., ..., 0., 0., 0.],\n",
       "       [0., 0., 0., ..., 0., 0., 0.],\n",
       "       ...,\n",
       "       [0., 0., 0., ..., 0., 0., 0.],\n",
       "       [0., 0., 0., ..., 0., 0., 0.],\n",
       "       [0., 0., 0., ..., 0., 0., 0.]])"
      ]
     },
     "execution_count": 26,
     "metadata": {},
     "output_type": "execute_result"
    }
   ],
   "source": [
    "X_train_flattened=X_train.reshape(len(X_train),28*28)\n",
    "X_test_flattened=X_test.reshape(len(X_test),28*28)\n",
    "X_train_flattened\n",
    "X_test_flattened"
   ]
  },
  {
   "cell_type": "code",
   "execution_count": 27,
   "id": "ba839bdb",
   "metadata": {},
   "outputs": [
    {
     "data": {
      "text/plain": [
       "(60000, 784)"
      ]
     },
     "execution_count": 27,
     "metadata": {},
     "output_type": "execute_result"
    }
   ],
   "source": [
    "X_train_flattened.shape"
   ]
  },
  {
   "cell_type": "code",
   "execution_count": 28,
   "id": "f9cfc5b7",
   "metadata": {},
   "outputs": [
    {
     "data": {
      "text/plain": [
       "(10000, 784)"
      ]
     },
     "execution_count": 28,
     "metadata": {},
     "output_type": "execute_result"
    }
   ],
   "source": [
    "X_test_flattened.shape"
   ]
  },
  {
   "cell_type": "code",
   "execution_count": 29,
   "id": "f4df7290",
   "metadata": {},
   "outputs": [
    {
     "name": "stdout",
     "output_type": "stream",
     "text": [
      "Epoch 1/10\n",
      "1875/1875 [==============================] - 2s 900us/step - loss: 0.6880 - accuracy: 0.8080\n",
      "Epoch 2/10\n",
      "1875/1875 [==============================] - 2s 1ms/step - loss: 0.2860 - accuracy: 0.9176\n",
      "Epoch 3/10\n",
      "1875/1875 [==============================] - 2s 1ms/step - loss: 0.2269 - accuracy: 0.9339\n",
      "Epoch 4/10\n",
      "1875/1875 [==============================] - 2s 1ms/step - loss: 0.1908 - accuracy: 0.9443\n",
      "Epoch 5/10\n",
      "1875/1875 [==============================] - 2s 1ms/step - loss: 0.1641 - accuracy: 0.9526\n",
      "Epoch 6/10\n",
      "1875/1875 [==============================] - 2s 948us/step - loss: 0.1434 - accuracy: 0.9578\n",
      "Epoch 7/10\n",
      "1875/1875 [==============================] - 2s 990us/step - loss: 0.1269 - accuracy: 0.9624\n",
      "Epoch 8/10\n",
      "1875/1875 [==============================] - 2s 894us/step - loss: 0.1135 - accuracy: 0.9670\n",
      "Epoch 9/10\n",
      "1875/1875 [==============================] - 2s 1ms/step - loss: 0.1024 - accuracy: 0.9698\n",
      "Epoch 10/10\n",
      "1875/1875 [==============================] - 2s 1ms/step - loss: 0.0928 - accuracy: 0.9734\n"
     ]
    },
    {
     "data": {
      "text/plain": [
       "<keras.callbacks.History at 0x1a6ed8acf40>"
      ]
     },
     "execution_count": 29,
     "metadata": {},
     "output_type": "execute_result"
    }
   ],
   "source": [
    "model = keras.Sequential([\n",
    "    keras.layers.Dense(100, input_shape=(784,),activation='relu'),\n",
    "    keras.layers.Dense(75,activation='relu'),\n",
    "    keras.layers.Dense(50,activation='relu'),\n",
    "    keras.layers.Dense(10,activation='sigmoid')\n",
    "])\n",
    "\n",
    "model.compile(\n",
    "    optimizer='SGD',\n",
    "    loss='sparse_categorical_crossentropy',\n",
    "    metrics=['accuracy']\n",
    ")\n",
    "model.fit(X_train_flattened,y_train,epochs=10)"
   ]
  },
  {
   "cell_type": "code",
   "execution_count": 30,
   "id": "a3bd9e10",
   "metadata": {},
   "outputs": [
    {
     "name": "stdout",
     "output_type": "stream",
     "text": [
      "313/313 [==============================] - 0s 747us/step - loss: 0.1059 - accuracy: 0.9685\n"
     ]
    },
    {
     "data": {
      "text/plain": [
       "[0.10590202361345291, 0.968500018119812]"
      ]
     },
     "execution_count": 30,
     "metadata": {},
     "output_type": "execute_result"
    }
   ],
   "source": [
    "model.evaluate(X_test_flattened,y_test)"
   ]
  },
  {
   "cell_type": "code",
   "execution_count": 31,
   "id": "a0e62f48",
   "metadata": {},
   "outputs": [
    {
     "data": {
      "text/plain": [
       "<matplotlib.image.AxesImage at 0x1a6ed722250>"
      ]
     },
     "execution_count": 31,
     "metadata": {},
     "output_type": "execute_result"
    },
    {
     "data": {
      "image/png": "[encoded data removed]",
      "text/plain": [
       "<Figure size 288x288 with 1 Axes>"
      ]
     },
     "metadata": {
      "needs_background": "light"
     },
     "output_type": "display_data"
    }
   ],
   "source": [
    "plt.matshow(X_test[0])"
   ]
  },
  {
   "cell_type": "code",
   "execution_count": 32,
   "id": "4a146374",
   "metadata": {},
   "outputs": [
    {
     "name": "stdout",
     "output_type": "stream",
     "text": [
      "313/313 [==============================] - 0s 742us/step\n"
     ]
    },
    {
     "data": {
      "text/plain": [
       "array([6.5921628e-01, 9.7798401e-01, 9.9998224e-01, 9.9906248e-01,\n",
       "       7.3890565e-06, 9.8305768e-01, 4.2379615e-01, 4.9368668e-02,\n",
       "       7.8293365e-01, 4.2876483e-05], dtype=float32)"
      ]
     },
     "execution_count": 32,
     "metadata": {},
     "output_type": "execute_result"
    }
   ],
   "source": [
    "y_predicted =model.predict(X_test_flattened)\n",
    "y_predicted[1]"
   ]
  },
  {
   "cell_type": "code",
   "execution_count": 33,
   "id": "1de060ae",
   "metadata": {},
   "outputs": [
    {
     "data": {
      "text/plain": [
       "2"
      ]
     },
     "execution_count": 33,
     "metadata": {},
     "output_type": "execute_result"
    }
   ],
   "source": [
    "np.argmax(y_predicted[1])"
   ]
  },
  {
   "cell_type": "code",
   "execution_count": 34,
   "id": "12f4cc79",
   "metadata": {},
   "outputs": [
    {
     "data": {
      "text/plain": [
       "[7, 2, 1, 0, 4]"
      ]
     },
     "execution_count": 34,
     "metadata": {},
     "output_type": "execute_result"
    }
   ],
   "source": [
    "y_predicted_labels=[np.argmax(i) for i in y_predicted]\n",
    "y_predicted_labels[:5]"
   ]
  },
  {
   "cell_type": "code",
   "execution_count": 35,
   "id": "87f22260",
   "metadata": {},
   "outputs": [
    {
     "data": {
      "text/plain": [
       "<tf.Tensor: shape=(10, 10), dtype=int32, numpy=\n",
       "array([[ 969,    0,    1,    0,    0,    2,    4,    2,    2,    0],\n",
       "       [   0, 1121,    3,    0,    0,    1,    4,    1,    5,    0],\n",
       "       [   5,    1, 1003,    4,    2,    0,    7,    4,    5,    1],\n",
       "       [   0,    0,   10,  980,    0,    2,    0,    6,    7,    5],\n",
       "       [   2,    0,    9,    0,  941,    1,    5,    1,    2,   21],\n",
       "       [   6,    1,    0,   17,    2,  841,    9,    0,   13,    3],\n",
       "       [   5,    3,    4,    1,    3,    3,  935,    1,    3,    0],\n",
       "       [   2,    5,   14,    1,    2,    1,    0,  988,    3,   12],\n",
       "       [   4,    1,    2,    4,    3,    4,    6,    2,  948,    0],\n",
       "       [   7,    6,    1,   10,   15,    1,    0,    5,    5,  959]])>"
      ]
     },
     "execution_count": 35,
     "metadata": {},
     "output_type": "execute_result"
    }
   ],
   "source": [
    "cm=tf.math.confusion_matrix(labels=y_test,predictions=y_predicted_labels)\n",
    "cm"
   ]
  },
  {
   "cell_type": "code",
   "execution_count": 36,
   "id": "77e2ce9f",
   "metadata": {},
   "outputs": [
    {
     "data": {
      "text/plain": [
       "Text(69.0, 0.5, 'Truth')"
      ]
     },
     "execution_count": 36,
     "metadata": {},
     "output_type": "execute_result"
    },
    {
     "data": {
      "image/png": "[encoded data removed]",
      "text/plain": [
       "<Figure size 720x504 with 2 Axes>"
      ]
     },
     "metadata": {
      "needs_background": "light"
     },
     "output_type": "display_data"
    }
   ],
   "source": [
    "\n",
    "import seaborn as sn\n",
    "plt.figure(figsize=(10,7))\n",
    "sn.heatmap(cm,annot=True,fmt='d')\n",
    "plt.xlabel('Predicted')\n",
    "plt.ylabel('Truth')"
   ]
  },
  {
   "cell_type": "code",
   "execution_count": 37,
   "id": "0485c88d",
   "metadata": {},
   "outputs": [
    {
     "name": "stdout",
     "output_type": "stream",
     "text": [
      "Epoch 1/300\n",
      "1875/1875 [==============================] - 2s 955us/step - loss: 0.2608 - accuracy: 0.9223\n",
      "Epoch 2/300\n",
      "1875/1875 [==============================] - 2s 991us/step - loss: 0.1106 - accuracy: 0.9662\n",
      "Epoch 3/300\n",
      "1875/1875 [==============================] - 2s 1ms/step - loss: 0.0779 - accuracy: 0.9751\n",
      "Epoch 4/300\n",
      "1875/1875 [==============================] - 2s 1ms/step - loss: 0.0602 - accuracy: 0.9810\n",
      "Epoch 5/300\n",
      "1875/1875 [==============================] - 2s 961us/step - loss: 0.0488 - accuracy: 0.9839\n",
      "Epoch 6/300\n",
      "1875/1875 [==============================] - 2s 946us/step - loss: 0.0399 - accuracy: 0.9864\n",
      "Epoch 7/300\n",
      "1875/1875 [==============================] - 2s 938us/step - loss: 0.0346 - accuracy: 0.9889\n",
      "Epoch 8/300\n",
      "1875/1875 [==============================] - 2s 942us/step - loss: 0.0301 - accuracy: 0.9903\n",
      "Epoch 9/300\n",
      "1875/1875 [==============================] - 2s 945us/step - loss: 0.0256 - accuracy: 0.9914\n",
      "Epoch 10/300\n",
      "1875/1875 [==============================] - 2s 951us/step - loss: 0.0238 - accuracy: 0.9920\n",
      "Epoch 11/300\n",
      "1875/1875 [==============================] - 2s 938us/step - loss: 0.0211 - accuracy: 0.9933\n",
      "Epoch 12/300\n",
      "1875/1875 [==============================] - 2s 1ms/step - loss: 0.0219 - accuracy: 0.9926\n",
      "Epoch 13/300\n",
      "1875/1875 [==============================] - 2s 1ms/step - loss: 0.0184 - accuracy: 0.9936\n",
      "Epoch 14/300\n",
      "1875/1875 [==============================] - 2s 960us/step - loss: 0.0183 - accuracy: 0.9938\n",
      "Epoch 15/300\n",
      "1875/1875 [==============================] - 2s 963us/step - loss: 0.0158 - accuracy: 0.9949\n",
      "Epoch 16/300\n",
      "1875/1875 [==============================] - 2s 946us/step - loss: 0.0162 - accuracy: 0.9948\n",
      "Epoch 17/300\n",
      "1875/1875 [==============================] - 2s 946us/step - loss: 0.0151 - accuracy: 0.9954\n",
      "Epoch 18/300\n",
      "1875/1875 [==============================] - 2s 954us/step - loss: 0.0129 - accuracy: 0.9958\n",
      "Epoch 19/300\n",
      "1875/1875 [==============================] - 2s 955us/step - loss: 0.0145 - accuracy: 0.9952\n",
      "Epoch 20/300\n",
      "1875/1875 [==============================] - 2s 944us/step - loss: 0.0147 - accuracy: 0.9954\n",
      "Epoch 21/300\n",
      "1875/1875 [==============================] - 2s 1ms/step - loss: 0.0123 - accuracy: 0.9962\n",
      "Epoch 22/300\n",
      "1875/1875 [==============================] - 2s 1ms/step - loss: 0.0112 - accuracy: 0.9962\n",
      "Epoch 23/300\n",
      "1875/1875 [==============================] - 2s 944us/step - loss: 0.0119 - accuracy: 0.9960\n",
      "Epoch 24/300\n",
      "1875/1875 [==============================] - 2s 951us/step - loss: 0.0116 - accuracy: 0.9962\n",
      "Epoch 25/300\n",
      "1875/1875 [==============================] - 2s 955us/step - loss: 0.0091 - accuracy: 0.9969\n",
      "Epoch 26/300\n",
      "1875/1875 [==============================] - 2s 959us/step - loss: 0.0118 - accuracy: 0.9965\n",
      "Epoch 27/300\n",
      "1875/1875 [==============================] - 2s 952us/step - loss: 0.0115 - accuracy: 0.9962\n",
      "Epoch 28/300\n",
      "1875/1875 [==============================] - 2s 947us/step - loss: 0.0072 - accuracy: 0.9976\n",
      "Epoch 29/300\n",
      "1875/1875 [==============================] - 2s 966us/step - loss: 0.0121 - accuracy: 0.9961\n",
      "Epoch 30/300\n",
      "1875/1875 [==============================] - 2s 1ms/step - loss: 0.0093 - accuracy: 0.9974\n",
      "Epoch 31/300\n",
      "1875/1875 [==============================] - 2s 1ms/step - loss: 0.0101 - accuracy: 0.9971\n",
      "Epoch 32/300\n",
      "1875/1875 [==============================] - 2s 954us/step - loss: 0.0078 - accuracy: 0.9976\n",
      "Epoch 33/300\n",
      "1875/1875 [==============================] - 2s 938us/step - loss: 0.0083 - accuracy: 0.9974\n",
      "Epoch 34/300\n",
      "1875/1875 [==============================] - 2s 941us/step - loss: 0.0087 - accuracy: 0.9972\n",
      "Epoch 35/300\n",
      "1875/1875 [==============================] - 2s 946us/step - loss: 0.0087 - accuracy: 0.9975\n",
      "Epoch 36/300\n",
      "1875/1875 [==============================] - 2s 957us/step - loss: 0.0097 - accuracy: 0.9973\n",
      "Epoch 37/300\n",
      "1875/1875 [==============================] - 2s 956us/step - loss: 0.0072 - accuracy: 0.9979\n",
      "Epoch 38/300\n",
      "1875/1875 [==============================] - 2s 1ms/step - loss: 0.0091 - accuracy: 0.9976\n",
      "Epoch 39/300\n",
      "1875/1875 [==============================] - 2s 1ms/step - loss: 0.0074 - accuracy: 0.9977\n",
      "Epoch 40/300\n",
      "1875/1875 [==============================] - 2s 989us/step - loss: 0.0067 - accuracy: 0.9980\n",
      "Epoch 41/300\n",
      "1875/1875 [==============================] - 2s 973us/step - loss: 0.0097 - accuracy: 0.9969\n",
      "Epoch 42/300\n",
      "1875/1875 [==============================] - 2s 984us/step - loss: 0.0068 - accuracy: 0.9982\n",
      "Epoch 43/300\n",
      "1875/1875 [==============================] - 2s 953us/step - loss: 0.0098 - accuracy: 0.9974\n",
      "Epoch 44/300\n",
      "1875/1875 [==============================] - 2s 953us/step - loss: 0.0035 - accuracy: 0.9990\n",
      "Epoch 45/300\n",
      "1875/1875 [==============================] - 2s 955us/step - loss: 0.0096 - accuracy: 0.9976\n",
      "Epoch 46/300\n",
      "1875/1875 [==============================] - 2s 961us/step - loss: 0.0070 - accuracy: 0.9980\n",
      "Epoch 47/300\n",
      "1875/1875 [==============================] - 2s 1ms/step - loss: 0.0072 - accuracy: 0.9979\n",
      "Epoch 48/300\n",
      "1875/1875 [==============================] - 2s 1ms/step - loss: 0.0071 - accuracy: 0.9982\n",
      "Epoch 49/300\n",
      "1875/1875 [==============================] - 2s 951us/step - loss: 0.0060 - accuracy: 0.9984\n",
      "Epoch 50/300\n",
      "1875/1875 [==============================] - 2s 954us/step - loss: 0.0069 - accuracy: 0.9983\n",
      "Epoch 51/300\n",
      "1875/1875 [==============================] - 2s 966us/step - loss: 0.0063 - accuracy: 0.9984\n",
      "Epoch 52/300\n",
      "1875/1875 [==============================] - 2s 952us/step - loss: 0.0066 - accuracy: 0.9980\n",
      "Epoch 53/300\n",
      "1875/1875 [==============================] - 2s 964us/step - loss: 0.0046 - accuracy: 0.9987\n",
      "Epoch 54/300\n",
      "1875/1875 [==============================] - 2s 947us/step - loss: 0.0094 - accuracy: 0.9978\n",
      "Epoch 55/300\n",
      "1875/1875 [==============================] - 2s 960us/step - loss: 0.0062 - accuracy: 0.9981\n",
      "Epoch 56/300\n",
      "1875/1875 [==============================] - 2s 1ms/step - loss: 0.0069 - accuracy: 0.9981\n",
      "Epoch 57/300\n",
      "1875/1875 [==============================] - 2s 1ms/step - loss: 0.0057 - accuracy: 0.9984\n",
      "Epoch 58/300\n",
      "1875/1875 [==============================] - 2s 951us/step - loss: 0.0077 - accuracy: 0.9982\n",
      "Epoch 59/300\n",
      "1875/1875 [==============================] - 2s 951us/step - loss: 0.0046 - accuracy: 0.9986\n",
      "Epoch 60/300\n",
      "1875/1875 [==============================] - 2s 953us/step - loss: 0.0063 - accuracy: 0.9983\n",
      "Epoch 61/300\n",
      "1875/1875 [==============================] - 2s 955us/step - loss: 0.0048 - accuracy: 0.9986\n",
      "Epoch 62/300\n",
      "1875/1875 [==============================] - 2s 954us/step - loss: 0.0076 - accuracy: 0.9981\n",
      "Epoch 63/300\n",
      "1875/1875 [==============================] - 2s 957us/step - loss: 0.0053 - accuracy: 0.9987\n",
      "Epoch 64/300\n",
      "1875/1875 [==============================] - 2s 984us/step - loss: 0.0073 - accuracy: 0.9983\n",
      "Epoch 65/300\n",
      "1875/1875 [==============================] - 2s 1ms/step - loss: 0.0068 - accuracy: 0.9982\n",
      "Epoch 66/300\n",
      "1875/1875 [==============================] - 2s 1ms/step - loss: 0.0048 - accuracy: 0.9988\n",
      "Epoch 67/300\n",
      "1875/1875 [==============================] - 2s 958us/step - loss: 0.0050 - accuracy: 0.9987\n",
      "Epoch 68/300\n",
      "1875/1875 [==============================] - 2s 957us/step - loss: 0.0039 - accuracy: 0.9988\n",
      "Epoch 69/300\n",
      "1875/1875 [==============================] - 2s 953us/step - loss: 0.0059 - accuracy: 0.9985\n",
      "Epoch 70/300\n",
      "1875/1875 [==============================] - 2s 956us/step - loss: 0.0049 - accuracy: 0.9988\n",
      "Epoch 71/300\n",
      "1875/1875 [==============================] - 2s 951us/step - loss: 0.0046 - accuracy: 0.9990\n",
      "Epoch 72/300\n",
      "1875/1875 [==============================] - 2s 954us/step - loss: 0.0044 - accuracy: 0.9989\n",
      "Epoch 73/300\n",
      "1875/1875 [==============================] - 2s 1ms/step - loss: 0.0071 - accuracy: 0.9981\n",
      "Epoch 74/300\n",
      "1875/1875 [==============================] - 2s 1ms/step - loss: 0.0024 - accuracy: 0.9992\n",
      "Epoch 75/300\n",
      "1875/1875 [==============================] - 2s 973us/step - loss: 0.0073 - accuracy: 0.9982\n",
      "Epoch 76/300\n",
      "1875/1875 [==============================] - 2s 958us/step - loss: 0.0064 - accuracy: 0.9983\n",
      "Epoch 77/300\n",
      "1875/1875 [==============================] - 2s 945us/step - loss: 0.0059 - accuracy: 0.9985\n",
      "Epoch 78/300\n",
      "1875/1875 [==============================] - 2s 952us/step - loss: 0.0037 - accuracy: 0.9991\n",
      "Epoch 79/300\n",
      "1875/1875 [==============================] - 2s 940us/step - loss: 0.0050 - accuracy: 0.9988\n",
      "Epoch 80/300\n",
      "1875/1875 [==============================] - 2s 941us/step - loss: 0.0041 - accuracy: 0.9988\n",
      "Epoch 81/300\n",
      "1875/1875 [==============================] - 2s 953us/step - loss: 0.0056 - accuracy: 0.9986\n",
      "Epoch 82/300\n",
      "1875/1875 [==============================] - 2s 1ms/step - loss: 0.0064 - accuracy: 0.9987\n",
      "Epoch 83/300\n",
      "1875/1875 [==============================] - 2s 1ms/step - loss: 0.0055 - accuracy: 0.9985\n",
      "Epoch 84/300\n",
      "1875/1875 [==============================] - 2s 972us/step - loss: 0.0051 - accuracy: 0.9986\n",
      "Epoch 85/300\n",
      "1875/1875 [==============================] - 2s 942us/step - loss: 0.0045 - accuracy: 0.9988\n",
      "Epoch 86/300\n",
      "1875/1875 [==============================] - 2s 943us/step - loss: 0.0036 - accuracy: 0.9993\n",
      "Epoch 87/300\n",
      "1875/1875 [==============================] - 2s 964us/step - loss: 0.0061 - accuracy: 0.9987\n",
      "Epoch 88/300\n",
      "1875/1875 [==============================] - 2s 953us/step - loss: 0.0060 - accuracy: 0.9986\n",
      "Epoch 89/300\n",
      "1875/1875 [==============================] - 2s 954us/step - loss: 0.0040 - accuracy: 0.9988\n",
      "Epoch 90/300\n",
      "1875/1875 [==============================] - 2s 951us/step - loss: 0.0052 - accuracy: 0.9987\n",
      "Epoch 91/300\n",
      "1875/1875 [==============================] - 2s 1ms/step - loss: 0.0047 - accuracy: 0.9988\n",
      "Epoch 92/300\n",
      "1875/1875 [==============================] - 2s 1ms/step - loss: 0.0043 - accuracy: 0.9990\n",
      "Epoch 93/300\n",
      "1875/1875 [==============================] - 2s 1ms/step - loss: 0.0053 - accuracy: 0.9990\n",
      "Epoch 94/300\n",
      "1875/1875 [==============================] - 2s 951us/step - loss: 0.0053 - accuracy: 0.9987\n",
      "Epoch 95/300\n",
      "1875/1875 [==============================] - 2s 950us/step - loss: 0.0037 - accuracy: 0.9990\n",
      "Epoch 96/300\n",
      "1875/1875 [==============================] - 2s 944us/step - loss: 0.0062 - accuracy: 0.9985\n",
      "Epoch 97/300\n",
      "1875/1875 [==============================] - 2s 943us/step - loss: 0.0062 - accuracy: 0.9986\n",
      "Epoch 98/300\n",
      "1875/1875 [==============================] - 2s 954us/step - loss: 0.0029 - accuracy: 0.9993\n",
      "Epoch 99/300\n",
      "1875/1875 [==============================] - 2s 971us/step - loss: 0.0049 - accuracy: 0.9989\n",
      "Epoch 100/300\n",
      "1875/1875 [==============================] - 2s 1ms/step - loss: 0.0064 - accuracy: 0.9987\n",
      "Epoch 101/300\n",
      "1875/1875 [==============================] - 2s 1ms/step - loss: 0.0058 - accuracy: 0.9988\n",
      "Epoch 102/300\n",
      "1875/1875 [==============================] - 2s 941us/step - loss: 0.0049 - accuracy: 0.9988\n",
      "Epoch 103/300\n",
      "1875/1875 [==============================] - 2s 965us/step - loss: 0.0058 - accuracy: 0.9987\n",
      "Epoch 104/300\n",
      "1875/1875 [==============================] - 2s 951us/step - loss: 0.0046 - accuracy: 0.9990\n",
      "Epoch 105/300\n",
      "1875/1875 [==============================] - 2s 950us/step - loss: 0.0030 - accuracy: 0.9991\n",
      "Epoch 106/300\n",
      "1875/1875 [==============================] - 2s 951us/step - loss: 0.0028 - accuracy: 0.9993\n",
      "Epoch 107/300\n",
      "1875/1875 [==============================] - 2s 965us/step - loss: 0.0055 - accuracy: 0.9986\n",
      "Epoch 108/300\n",
      "1875/1875 [==============================] - 2s 1ms/step - loss: 0.0050 - accuracy: 0.9990\n",
      "Epoch 109/300\n",
      "1875/1875 [==============================] - 2s 1ms/step - loss: 0.0047 - accuracy: 0.9990\n",
      "Epoch 110/300\n",
      "1875/1875 [==============================] - 2s 972us/step - loss: 0.0054 - accuracy: 0.9988\n",
      "Epoch 111/300\n",
      "1875/1875 [==============================] - 2s 940us/step - loss: 0.0042 - accuracy: 0.9990\n",
      "Epoch 112/300\n",
      "1875/1875 [==============================] - 2s 956us/step - loss: 0.0048 - accuracy: 0.9986\n",
      "Epoch 113/300\n",
      "1875/1875 [==============================] - 2s 941us/step - loss: 0.0033 - accuracy: 0.9992\n",
      "Epoch 114/300\n",
      "1875/1875 [==============================] - 2s 951us/step - loss: 0.0057 - accuracy: 0.9987\n",
      "Epoch 115/300\n",
      "1875/1875 [==============================] - 2s 960us/step - loss: 0.0047 - accuracy: 0.9991\n",
      "Epoch 116/300\n",
      "1875/1875 [==============================] - 2s 956us/step - loss: 0.0040 - accuracy: 0.9991\n",
      "Epoch 117/300\n",
      "1875/1875 [==============================] - 2s 1ms/step - loss: 0.0044 - accuracy: 0.9989\n",
      "Epoch 118/300\n",
      "1875/1875 [==============================] - 2s 1ms/step - loss: 0.0033 - accuracy: 0.9991\n",
      "Epoch 119/300\n",
      "1875/1875 [==============================] - 2s 968us/step - loss: 0.0068 - accuracy: 0.9986\n",
      "Epoch 120/300\n",
      "1875/1875 [==============================] - 2s 959us/step - loss: 0.0062 - accuracy: 0.9989\n",
      "Epoch 121/300\n",
      "1875/1875 [==============================] - 2s 959us/step - loss: 0.0055 - accuracy: 0.9987\n",
      "Epoch 122/300\n",
      "1875/1875 [==============================] - 2s 959us/step - loss: 0.0054 - accuracy: 0.9989\n",
      "Epoch 123/300\n",
      "1875/1875 [==============================] - 2s 951us/step - loss: 0.0047 - accuracy: 0.9991\n",
      "Epoch 124/300\n",
      "1875/1875 [==============================] - 2s 956us/step - loss: 0.0021 - accuracy: 0.9996\n",
      "Epoch 125/300\n",
      "1875/1875 [==============================] - 2s 953us/step - loss: 0.0046 - accuracy: 0.9990\n",
      "Epoch 126/300\n",
      "1875/1875 [==============================] - 2s 1ms/step - loss: 0.0046 - accuracy: 0.9990\n",
      "Epoch 127/300\n",
      "1875/1875 [==============================] - 2s 1ms/step - loss: 0.0046 - accuracy: 0.9991\n",
      "Epoch 128/300\n",
      "1875/1875 [==============================] - 2s 959us/step - loss: 0.0037 - accuracy: 0.9993\n",
      "Epoch 129/300\n",
      "1875/1875 [==============================] - 2s 957us/step - loss: 0.0030 - accuracy: 0.9993\n",
      "Epoch 130/300\n",
      "1875/1875 [==============================] - 2s 1ms/step - loss: 0.0062 - accuracy: 0.9989\n",
      "Epoch 131/300\n",
      "1875/1875 [==============================] - 2s 1ms/step - loss: 0.0051 - accuracy: 0.9988\n",
      "Epoch 132/300\n",
      "1875/1875 [==============================] - 2s 1ms/step - loss: 0.0065 - accuracy: 0.9987\n",
      "Epoch 133/300\n",
      "1875/1875 [==============================] - 2s 1ms/step - loss: 0.0036 - accuracy: 0.9993\n",
      "Epoch 134/300\n",
      "1875/1875 [==============================] - 2s 1ms/step - loss: 0.0057 - accuracy: 0.9990\n",
      "Epoch 135/300\n",
      "1875/1875 [==============================] - 2s 1ms/step - loss: 0.0016 - accuracy: 0.9996\n",
      "Epoch 136/300\n",
      "1875/1875 [==============================] - 2s 1ms/step - loss: 0.0071 - accuracy: 0.9988\n",
      "Epoch 137/300\n",
      "1875/1875 [==============================] - 2s 1ms/step - loss: 0.0021 - accuracy: 0.9996\n",
      "Epoch 138/300\n",
      "1875/1875 [==============================] - 2s 1ms/step - loss: 0.0035 - accuracy: 0.9992\n",
      "Epoch 139/300\n",
      "1875/1875 [==============================] - 2s 979us/step - loss: 0.0060 - accuracy: 0.9989\n",
      "Epoch 140/300\n",
      "1875/1875 [==============================] - 2s 966us/step - loss: 0.0032 - accuracy: 0.9992\n",
      "Epoch 141/300\n",
      "1875/1875 [==============================] - 2s 1ms/step - loss: 0.0057 - accuracy: 0.9989\n",
      "Epoch 142/300\n",
      "1875/1875 [==============================] - 2s 1ms/step - loss: 0.0021 - accuracy: 0.9994\n",
      "Epoch 143/300\n",
      "1875/1875 [==============================] - 2s 1ms/step - loss: 0.0056 - accuracy: 0.9988\n",
      "Epoch 144/300\n",
      "1875/1875 [==============================] - 2s 984us/step - loss: 0.0045 - accuracy: 0.9991\n",
      "Epoch 145/300\n",
      "1875/1875 [==============================] - 2s 991us/step - loss: 0.0028 - accuracy: 0.9994\n",
      "Epoch 146/300\n",
      "1875/1875 [==============================] - 2s 990us/step - loss: 0.0051 - accuracy: 0.9989\n",
      "Epoch 147/300\n",
      "1875/1875 [==============================] - 2s 963us/step - loss: 0.0036 - accuracy: 0.9993\n",
      "Epoch 148/300\n",
      "1875/1875 [==============================] - 2s 959us/step - loss: 0.0046 - accuracy: 0.9993\n",
      "Epoch 149/300\n",
      "1875/1875 [==============================] - 2s 961us/step - loss: 0.0063 - accuracy: 0.9989\n",
      "Epoch 150/300\n",
      "1875/1875 [==============================] - 3s 1ms/step - loss: 0.0015 - accuracy: 0.9996\n",
      "Epoch 151/300\n",
      "1875/1875 [==============================] - 6s 3ms/step - loss: 0.0050 - accuracy: 0.9993\n",
      "Epoch 152/300\n",
      "1875/1875 [==============================] - 3s 2ms/step - loss: 0.0034 - accuracy: 0.9994\n",
      "Epoch 153/300\n",
      "1875/1875 [==============================] - 3s 2ms/step - loss: 0.0056 - accuracy: 0.9990\n",
      "Epoch 154/300\n",
      "1875/1875 [==============================] - 4s 2ms/step - loss: 0.0060 - accuracy: 0.9993\n",
      "Epoch 155/300\n"
     ]
    },
    {
     "name": "stdout",
     "output_type": "stream",
     "text": [
      "1875/1875 [==============================] - 4s 2ms/step - loss: 0.0021 - accuracy: 0.9995\n",
      "Epoch 156/300\n",
      "1875/1875 [==============================] - 4s 2ms/step - loss: 0.0037 - accuracy: 0.9993\n",
      "Epoch 157/300\n",
      "1875/1875 [==============================] - 3s 2ms/step - loss: 0.0047 - accuracy: 0.9990\n",
      "Epoch 158/300\n",
      "1875/1875 [==============================] - 4s 2ms/step - loss: 0.0049 - accuracy: 0.9991\n",
      "Epoch 159/300\n",
      "1875/1875 [==============================] - 4s 2ms/step - loss: 0.0032 - accuracy: 0.9992\n",
      "Epoch 160/300\n",
      "1875/1875 [==============================] - 4s 2ms/step - loss: 0.0047 - accuracy: 0.9991\n",
      "Epoch 161/300\n",
      "1875/1875 [==============================] - 3s 2ms/step - loss: 0.0042 - accuracy: 0.9991\n",
      "Epoch 162/300\n",
      "1875/1875 [==============================] - 3s 2ms/step - loss: 0.0081 - accuracy: 0.9989\n",
      "Epoch 163/300\n",
      "1875/1875 [==============================] - 4s 2ms/step - loss: 0.0018 - accuracy: 0.9995\n",
      "Epoch 164/300\n",
      "1875/1875 [==============================] - 4s 2ms/step - loss: 0.0045 - accuracy: 0.9992\n",
      "Epoch 165/300\n",
      "1875/1875 [==============================] - 3s 2ms/step - loss: 0.0015 - accuracy: 0.9997\n",
      "Epoch 166/300\n",
      "1875/1875 [==============================] - 4s 2ms/step - loss: 0.0055 - accuracy: 0.9990\n",
      "Epoch 167/300\n",
      "1875/1875 [==============================] - 4s 2ms/step - loss: 0.0068 - accuracy: 0.9988\n",
      "Epoch 168/300\n",
      "1875/1875 [==============================] - 4s 2ms/step - loss: 0.0039 - accuracy: 0.9993\n",
      "Epoch 169/300\n",
      "1875/1875 [==============================] - 3s 2ms/step - loss: 0.0029 - accuracy: 0.9994\n",
      "Epoch 170/300\n",
      "1875/1875 [==============================] - 3s 2ms/step - loss: 0.0042 - accuracy: 0.9992\n",
      "Epoch 171/300\n",
      "1875/1875 [==============================] - 3s 2ms/step - loss: 0.0047 - accuracy: 0.9992\n",
      "Epoch 172/300\n",
      "1875/1875 [==============================] - 4s 2ms/step - loss: 0.0041 - accuracy: 0.9993\n",
      "Epoch 173/300\n",
      "1875/1875 [==============================] - 4s 2ms/step - loss: 0.0045 - accuracy: 0.9992\n",
      "Epoch 174/300\n",
      "1875/1875 [==============================] - 3s 2ms/step - loss: 0.0032 - accuracy: 0.9994\n",
      "Epoch 175/300\n",
      "1875/1875 [==============================] - 3s 2ms/step - loss: 0.0067 - accuracy: 0.9990\n",
      "Epoch 176/300\n",
      "1875/1875 [==============================] - 4s 2ms/step - loss: 0.0026 - accuracy: 0.9995\n",
      "Epoch 177/300\n",
      "1875/1875 [==============================] - 4s 2ms/step - loss: 0.0054 - accuracy: 0.9991\n",
      "Epoch 178/300\n",
      "1875/1875 [==============================] - 4s 2ms/step - loss: 0.0051 - accuracy: 0.9992\n",
      "Epoch 179/300\n",
      "1875/1875 [==============================] - 4s 2ms/step - loss: 0.0019 - accuracy: 0.9997\n",
      "Epoch 180/300\n",
      "1875/1875 [==============================] - 4s 2ms/step - loss: 0.0052 - accuracy: 0.9990\n",
      "Epoch 181/300\n",
      "1875/1875 [==============================] - 4s 2ms/step - loss: 0.0023 - accuracy: 0.9996\n",
      "Epoch 182/300\n",
      "1875/1875 [==============================] - 3s 2ms/step - loss: 0.0018 - accuracy: 0.9997\n",
      "Epoch 183/300\n",
      "1875/1875 [==============================] - 3s 2ms/step - loss: 0.0061 - accuracy: 0.9990\n",
      "Epoch 184/300\n",
      "1875/1875 [==============================] - 3s 2ms/step - loss: 0.0039 - accuracy: 0.9993\n",
      "Epoch 185/300\n",
      "1875/1875 [==============================] - 4s 2ms/step - loss: 0.0041 - accuracy: 0.9993\n",
      "Epoch 186/300\n",
      "1875/1875 [==============================] - 4s 2ms/step - loss: 0.0032 - accuracy: 0.9995\n",
      "Epoch 187/300\n",
      "1875/1875 [==============================] - 3s 2ms/step - loss: 0.0041 - accuracy: 0.9992\n",
      "Epoch 188/300\n",
      "1875/1875 [==============================] - 3s 2ms/step - loss: 0.0043 - accuracy: 0.9992\n",
      "Epoch 189/300\n",
      "1875/1875 [==============================] - 4s 2ms/step - loss: 0.0051 - accuracy: 0.9994\n",
      "Epoch 190/300\n",
      "1875/1875 [==============================] - 4s 2ms/step - loss: 0.0040 - accuracy: 0.9993\n",
      "Epoch 191/300\n",
      "1875/1875 [==============================] - 4s 2ms/step - loss: 0.0030 - accuracy: 0.9995\n",
      "Epoch 192/300\n",
      "1875/1875 [==============================] - 3s 2ms/step - loss: 0.0050 - accuracy: 0.9991\n",
      "Epoch 193/300\n",
      "1875/1875 [==============================] - 3s 2ms/step - loss: 0.0018 - accuracy: 0.9996\n",
      "Epoch 194/300\n",
      "1875/1875 [==============================] - 4s 2ms/step - loss: 0.0035 - accuracy: 0.9995\n",
      "Epoch 195/300\n",
      "1875/1875 [==============================] - 4s 2ms/step - loss: 0.0061 - accuracy: 0.9990\n",
      "Epoch 196/300\n",
      "1875/1875 [==============================] - 3s 2ms/step - loss: 0.0036 - accuracy: 0.9993\n",
      "Epoch 197/300\n",
      "1875/1875 [==============================] - 3s 2ms/step - loss: 0.0050 - accuracy: 0.9993\n",
      "Epoch 198/300\n",
      "1875/1875 [==============================] - 4s 2ms/step - loss: 0.0034 - accuracy: 0.9993\n",
      "Epoch 199/300\n",
      "1875/1875 [==============================] - 4s 2ms/step - loss: 0.0029 - accuracy: 0.9994\n",
      "Epoch 200/300\n",
      "1875/1875 [==============================] - 3s 2ms/step - loss: 0.0048 - accuracy: 0.9991\n",
      "Epoch 201/300\n",
      "1875/1875 [==============================] - 3s 2ms/step - loss: 0.0063 - accuracy: 0.9993\n",
      "Epoch 202/300\n",
      "1875/1875 [==============================] - 3s 2ms/step - loss: 0.0048 - accuracy: 0.9992\n",
      "Epoch 203/300\n",
      "1875/1875 [==============================] - 4s 2ms/step - loss: 0.0036 - accuracy: 0.9994\n",
      "Epoch 204/300\n",
      "1875/1875 [==============================] - 4s 2ms/step - loss: 0.0024 - accuracy: 0.9995\n",
      "Epoch 205/300\n",
      "1875/1875 [==============================] - 3s 2ms/step - loss: 0.0044 - accuracy: 0.9994\n",
      "Epoch 206/300\n",
      "1875/1875 [==============================] - 3s 2ms/step - loss: 0.0013 - accuracy: 0.9998\n",
      "Epoch 207/300\n",
      "1875/1875 [==============================] - 4s 2ms/step - loss: 0.0055 - accuracy: 0.9991\n",
      "Epoch 208/300\n",
      "1875/1875 [==============================] - 4s 2ms/step - loss: 0.0037 - accuracy: 0.9994\n",
      "Epoch 209/300\n",
      "1875/1875 [==============================] - 4s 2ms/step - loss: 0.0029 - accuracy: 0.9995\n",
      "Epoch 210/300\n",
      "1875/1875 [==============================] - 3s 2ms/step - loss: 0.0043 - accuracy: 0.9993\n",
      "Epoch 211/300\n",
      "1875/1875 [==============================] - 3s 2ms/step - loss: 0.0045 - accuracy: 0.9994\n",
      "Epoch 212/300\n",
      "1875/1875 [==============================] - 4s 2ms/step - loss: 0.0040 - accuracy: 0.9994\n",
      "Epoch 213/300\n",
      "1875/1875 [==============================] - 4s 2ms/step - loss: 0.0059 - accuracy: 0.9992\n",
      "Epoch 214/300\n",
      "1875/1875 [==============================] - 3s 2ms/step - loss: 0.0024 - accuracy: 0.9995\n",
      "Epoch 215/300\n",
      "1875/1875 [==============================] - 3s 2ms/step - loss: 0.0033 - accuracy: 0.9994\n",
      "Epoch 216/300\n",
      "1875/1875 [==============================] - 3s 2ms/step - loss: 0.0023 - accuracy: 0.9995\n",
      "Epoch 217/300\n",
      "1875/1875 [==============================] - 4s 2ms/step - loss: 0.0052 - accuracy: 0.9993\n",
      "Epoch 218/300\n",
      "1875/1875 [==============================] - 4s 2ms/step - loss: 0.0025 - accuracy: 0.9995\n",
      "Epoch 219/300\n",
      "1875/1875 [==============================] - 3s 2ms/step - loss: 0.0014 - accuracy: 0.9997\n",
      "Epoch 220/300\n",
      "1875/1875 [==============================] - 3s 2ms/step - loss: 0.0039 - accuracy: 0.9994\n",
      "Epoch 221/300\n",
      "1875/1875 [==============================] - 4s 2ms/step - loss: 0.0031 - accuracy: 0.9995\n",
      "Epoch 222/300\n",
      "1875/1875 [==============================] - 4s 2ms/step - loss: 0.0057 - accuracy: 0.9990\n",
      "Epoch 223/300\n",
      "1875/1875 [==============================] - 3s 2ms/step - loss: 0.0039 - accuracy: 0.9995\n",
      "Epoch 224/300\n",
      "1875/1875 [==============================] - 3s 2ms/step - loss: 0.0026 - accuracy: 0.9995\n",
      "Epoch 225/300\n",
      "1875/1875 [==============================] - 4s 2ms/step - loss: 0.0026 - accuracy: 0.9994\n",
      "Epoch 226/300\n",
      "1875/1875 [==============================] - 4s 2ms/step - loss: 0.0040 - accuracy: 0.9993\n",
      "Epoch 227/300\n",
      "1875/1875 [==============================] - 4s 2ms/step - loss: 0.0032 - accuracy: 0.9994\n",
      "Epoch 228/300\n",
      "1875/1875 [==============================] - 4s 2ms/step - loss: 0.0024 - accuracy: 0.9994\n",
      "Epoch 229/300\n",
      "1875/1875 [==============================] - 3s 2ms/step - loss: 0.0050 - accuracy: 0.9992\n",
      "Epoch 230/300\n",
      "1875/1875 [==============================] - 4s 2ms/step - loss: 0.0023 - accuracy: 0.9996\n",
      "Epoch 231/300\n",
      "1875/1875 [==============================] - 4s 2ms/step - loss: 0.0033 - accuracy: 0.9994\n",
      "Epoch 232/300\n",
      "1875/1875 [==============================] - 3s 2ms/step - loss: 0.0041 - accuracy: 0.9992\n",
      "Epoch 233/300\n",
      "1875/1875 [==============================] - 3s 2ms/step - loss: 0.0023 - accuracy: 0.9997\n",
      "Epoch 234/300\n",
      "1875/1875 [==============================] - 3s 2ms/step - loss: 0.0038 - accuracy: 0.9994\n",
      "Epoch 235/300\n",
      "1875/1875 [==============================] - 4s 2ms/step - loss: 0.0031 - accuracy: 0.9995\n",
      "Epoch 236/300\n",
      "1875/1875 [==============================] - 4s 2ms/step - loss: 0.0029 - accuracy: 0.9995\n",
      "Epoch 237/300\n",
      "1875/1875 [==============================] - 4s 2ms/step - loss: 0.0081 - accuracy: 0.9992\n",
      "Epoch 238/300\n",
      "1875/1875 [==============================] - 3s 2ms/step - loss: 0.0035 - accuracy: 0.9994\n",
      "Epoch 239/300\n",
      "1875/1875 [==============================] - 4s 2ms/step - loss: 5.4611e-04 - accuracy: 0.9999\n",
      "Epoch 240/300\n",
      "1875/1875 [==============================] - 4s 2ms/step - loss: 0.0049 - accuracy: 0.9993\n",
      "Epoch 241/300\n",
      "1875/1875 [==============================] - 4s 2ms/step - loss: 0.0030 - accuracy: 0.9996\n",
      "Epoch 242/300\n",
      "1875/1875 [==============================] - 3s 2ms/step - loss: 0.0030 - accuracy: 0.9995\n",
      "Epoch 243/300\n",
      "1875/1875 [==============================] - 4s 2ms/step - loss: 0.0042 - accuracy: 0.9994\n",
      "Epoch 244/300\n",
      "1875/1875 [==============================] - 4s 2ms/step - loss: 0.0027 - accuracy: 0.9995\n",
      "Epoch 245/300\n",
      "1875/1875 [==============================] - 3s 2ms/step - loss: 0.0033 - accuracy: 0.9995\n",
      "Epoch 246/300\n",
      "1875/1875 [==============================] - 3s 2ms/step - loss: 0.0032 - accuracy: 0.9994\n",
      "Epoch 247/300\n",
      "1875/1875 [==============================] - 3s 2ms/step - loss: 0.0034 - accuracy: 0.9993\n",
      "Epoch 248/300\n",
      "1875/1875 [==============================] - 4s 2ms/step - loss: 0.0044 - accuracy: 0.9995\n",
      "Epoch 249/300\n",
      "1875/1875 [==============================] - 4s 2ms/step - loss: 0.0037 - accuracy: 0.9993\n",
      "Epoch 250/300\n",
      "1875/1875 [==============================] - 3s 2ms/step - loss: 0.0039 - accuracy: 0.9995\n",
      "Epoch 251/300\n",
      "1875/1875 [==============================] - 3s 2ms/step - loss: 0.0036 - accuracy: 0.9995\n",
      "Epoch 252/300\n",
      "1875/1875 [==============================] - 4s 2ms/step - loss: 0.0034 - accuracy: 0.9994\n",
      "Epoch 253/300\n",
      "1875/1875 [==============================] - 4s 2ms/step - loss: 0.0039 - accuracy: 0.9996\n",
      "Epoch 254/300\n",
      "1875/1875 [==============================] - 3s 2ms/step - loss: 0.0043 - accuracy: 0.9993\n",
      "Epoch 255/300\n",
      "1875/1875 [==============================] - 3s 2ms/step - loss: 0.0052 - accuracy: 0.9994\n",
      "Epoch 256/300\n",
      "1875/1875 [==============================] - 3s 2ms/step - loss: 0.0027 - accuracy: 0.9996\n",
      "Epoch 257/300\n",
      "1875/1875 [==============================] - 6s 3ms/step - loss: 0.0024 - accuracy: 0.9995\n",
      "Epoch 258/300\n",
      "1875/1875 [==============================] - 7s 3ms/step - loss: 0.0036 - accuracy: 0.9994\n",
      "Epoch 259/300\n",
      "1875/1875 [==============================] - 5s 2ms/step - loss: 0.0056 - accuracy: 0.9993\n",
      "Epoch 260/300\n",
      "1875/1875 [==============================] - 4s 2ms/step - loss: 0.0023 - accuracy: 0.9996\n",
      "Epoch 261/300\n",
      "1875/1875 [==============================] - 4s 2ms/step - loss: 0.0038 - accuracy: 0.9995\n",
      "Epoch 262/300\n",
      "1875/1875 [==============================] - 3s 2ms/step - loss: 0.0023 - accuracy: 0.9997\n",
      "Epoch 263/300\n",
      "1875/1875 [==============================] - 3s 2ms/step - loss: 0.0020 - accuracy: 0.9996\n",
      "Epoch 264/300\n",
      "1875/1875 [==============================] - 4s 2ms/step - loss: 0.0054 - accuracy: 0.9993\n",
      "Epoch 265/300\n",
      "1875/1875 [==============================] - 4s 2ms/step - loss: 0.0034 - accuracy: 0.9995\n",
      "Epoch 266/300\n",
      "1875/1875 [==============================] - 3s 2ms/step - loss: 5.2459e-04 - accuracy: 0.9999\n",
      "Epoch 267/300\n",
      "1875/1875 [==============================] - 3s 2ms/step - loss: 8.1313e-04 - accuracy: 0.9998\n",
      "Epoch 268/300\n",
      "1875/1875 [==============================] - 3s 2ms/step - loss: 0.0065 - accuracy: 0.9992\n",
      "Epoch 269/300\n",
      "1875/1875 [==============================] - 4s 2ms/step - loss: 0.0028 - accuracy: 0.9995\n",
      "Epoch 270/300\n",
      "1875/1875 [==============================] - 4s 2ms/step - loss: 0.0058 - accuracy: 0.9993\n",
      "Epoch 271/300\n",
      "1875/1875 [==============================] - 3s 2ms/step - loss: 0.0034 - accuracy: 0.9994\n",
      "Epoch 272/300\n",
      "1875/1875 [==============================] - 3s 2ms/step - loss: 0.0026 - accuracy: 0.9997\n",
      "Epoch 273/300\n",
      "1875/1875 [==============================] - 3s 2ms/step - loss: 0.0032 - accuracy: 0.9996\n",
      "Epoch 274/300\n",
      "1875/1875 [==============================] - 4s 2ms/step - loss: 0.0052 - accuracy: 0.9994\n",
      "Epoch 275/300\n",
      "1875/1875 [==============================] - 3s 2ms/step - loss: 0.0033 - accuracy: 0.9995\n",
      "Epoch 276/300\n",
      "1875/1875 [==============================] - 3s 2ms/step - loss: 0.0063 - accuracy: 0.9993\n",
      "Epoch 277/300\n",
      "1875/1875 [==============================] - 3s 2ms/step - loss: 0.0022 - accuracy: 0.9996\n",
      "Epoch 278/300\n",
      "1875/1875 [==============================] - 4s 2ms/step - loss: 0.0026 - accuracy: 0.9996\n",
      "Epoch 279/300\n",
      "1875/1875 [==============================] - 4s 2ms/step - loss: 0.0047 - accuracy: 0.9994\n",
      "Epoch 280/300\n",
      "1875/1875 [==============================] - 3s 2ms/step - loss: 0.0019 - accuracy: 0.9997\n",
      "Epoch 281/300\n",
      "1875/1875 [==============================] - 3s 2ms/step - loss: 0.0036 - accuracy: 0.9994\n",
      "Epoch 282/300\n",
      "1875/1875 [==============================] - 3s 2ms/step - loss: 0.0052 - accuracy: 0.9993\n",
      "Epoch 283/300\n",
      "1875/1875 [==============================] - 4s 2ms/step - loss: 0.0024 - accuracy: 0.9997\n",
      "Epoch 284/300\n",
      "1875/1875 [==============================] - 4s 2ms/step - loss: 0.0031 - accuracy: 0.9995\n",
      "Epoch 285/300\n",
      "1875/1875 [==============================] - 3s 2ms/step - loss: 0.0045 - accuracy: 0.9994\n",
      "Epoch 286/300\n",
      "1875/1875 [==============================] - 3s 2ms/step - loss: 0.0036 - accuracy: 0.9995\n",
      "Epoch 287/300\n",
      "1875/1875 [==============================] - 4s 2ms/step - loss: 0.0034 - accuracy: 0.9995\n",
      "Epoch 288/300\n",
      "1875/1875 [==============================] - 4s 2ms/step - loss: 0.0023 - accuracy: 0.9996\n",
      "Epoch 289/300\n",
      "1875/1875 [==============================] - 3s 2ms/step - loss: 0.0044 - accuracy: 0.9994\n",
      "Epoch 290/300\n",
      "1875/1875 [==============================] - 3s 2ms/step - loss: 0.0018 - accuracy: 0.9998\n",
      "Epoch 291/300\n",
      "1875/1875 [==============================] - 3s 2ms/step - loss: 0.0020 - accuracy: 0.9997\n",
      "Epoch 292/300\n",
      "1875/1875 [==============================] - 4s 2ms/step - loss: 0.0063 - accuracy: 0.9993\n",
      "Epoch 293/300\n",
      "1875/1875 [==============================] - 4s 2ms/step - loss: 0.0036 - accuracy: 0.9994\n",
      "Epoch 294/300\n",
      "1875/1875 [==============================] - 3s 2ms/step - loss: 0.0034 - accuracy: 0.9995\n",
      "Epoch 295/300\n",
      "1875/1875 [==============================] - 3s 2ms/step - loss: 0.0060 - accuracy: 0.9993\n",
      "Epoch 296/300\n",
      "1875/1875 [==============================] - 3s 2ms/step - loss: 0.0045 - accuracy: 0.9994\n",
      "Epoch 297/300\n",
      "1875/1875 [==============================] - 4s 2ms/step - loss: 0.0024 - accuracy: 0.9996\n",
      "Epoch 298/300\n",
      "1875/1875 [==============================] - 3s 2ms/step - loss: 0.0061 - accuracy: 0.9995\n",
      "Epoch 299/300\n",
      "1875/1875 [==============================] - 3s 2ms/step - loss: 0.0023 - accuracy: 0.9998\n",
      "Epoch 300/300\n",
      "1875/1875 [==============================] - 3s 2ms/step - loss: 0.0046 - accuracy: 0.9995\n"
     ]
    },
    {
     "data": {
      "text/plain": [
       "<keras.callbacks.History at 0x1a6988b3790>"
      ]
     },
     "execution_count": 37,
     "metadata": {},
     "output_type": "execute_result"
    }
   ],
   "source": [
    "model = keras.Sequential([\n",
    "    keras.layers.Dense(100, input_shape=(784,),activation='relu'),\n",
    "    keras.layers.Dense(75,activation='relu'),\n",
    "    keras.layers.Dense(50,activation='relu'),\n",
    "    keras.layers.Dense(10,activation='sigmoid')\n",
    "])\n",
    "\n",
    "model.compile(\n",
    "    optimizer='adam',\n",
    "    loss='sparse_categorical_crossentropy',\n",
    "    metrics=['accuracy']\n",
    ")\n",
    "model.fit(X_train_flattened,y_train,epochs=300)"
   ]
  },
  {
   "cell_type": "code",
   "execution_count": 53,
   "id": "2cd3217e",
   "metadata": {},
   "outputs": [
    {
     "name": "stdout",
     "output_type": "stream",
     "text": [
      "Epoch 1/30\n",
      "1875/1875 [==============================] - 3s 1ms/step - loss: 0.2287 - accuracy: 0.9333\n",
      "Epoch 2/30\n",
      "1875/1875 [==============================] - 2s 1ms/step - loss: 0.0979 - accuracy: 0.9698\n",
      "Epoch 3/30\n",
      "1875/1875 [==============================] - 2s 1ms/step - loss: 0.0715 - accuracy: 0.9777\n",
      "Epoch 4/30\n",
      "1875/1875 [==============================] - 2s 1ms/step - loss: 0.0547 - accuracy: 0.9827\n",
      "Epoch 5/30\n",
      "1875/1875 [==============================] - 2s 1ms/step - loss: 0.0464 - accuracy: 0.9849\n",
      "Epoch 6/30\n",
      "1875/1875 [==============================] - 2s 1ms/step - loss: 0.0369 - accuracy: 0.9878\n",
      "Epoch 7/30\n",
      "1875/1875 [==============================] - 2s 1ms/step - loss: 0.0310 - accuracy: 0.9900\n",
      "Epoch 8/30\n",
      "1875/1875 [==============================] - 3s 1ms/step - loss: 0.0284 - accuracy: 0.9908\n",
      "Epoch 9/30\n",
      "1875/1875 [==============================] - 4s 2ms/step - loss: 0.0236 - accuracy: 0.9925\n",
      "Epoch 10/30\n",
      "1875/1875 [==============================] - 2s 1ms/step - loss: 0.0180 - accuracy: 0.9944\n",
      "Epoch 11/30\n",
      "1875/1875 [==============================] - 2s 1ms/step - loss: 0.0185 - accuracy: 0.9939\n",
      "Epoch 12/30\n",
      "1875/1875 [==============================] - 2s 1ms/step - loss: 0.0168 - accuracy: 0.9945\n",
      "Epoch 13/30\n",
      "1875/1875 [==============================] - 2s 1ms/step - loss: 0.0163 - accuracy: 0.9948\n",
      "Epoch 14/30\n",
      "1875/1875 [==============================] - 2s 1ms/step - loss: 0.0135 - accuracy: 0.9958\n",
      "Epoch 15/30\n",
      "1875/1875 [==============================] - 2s 1ms/step - loss: 0.0144 - accuracy: 0.9950\n",
      "Epoch 16/30\n",
      "1875/1875 [==============================] - 2s 1ms/step - loss: 0.0109 - accuracy: 0.9962\n",
      "Epoch 17/30\n",
      "1875/1875 [==============================] - 3s 1ms/step - loss: 0.0097 - accuracy: 0.9968\n",
      "Epoch 18/30\n",
      "1875/1875 [==============================] - 2s 1ms/step - loss: 0.0121 - accuracy: 0.9963\n",
      "Epoch 19/30\n",
      "1875/1875 [==============================] - 4s 2ms/step - loss: 0.0100 - accuracy: 0.9966\n",
      "Epoch 20/30\n",
      "1875/1875 [==============================] - 2s 1ms/step - loss: 0.0089 - accuracy: 0.9968\n",
      "Epoch 21/30\n",
      "1875/1875 [==============================] - 3s 1ms/step - loss: 0.0117 - accuracy: 0.9964\n",
      "Epoch 22/30\n",
      "1875/1875 [==============================] - 3s 1ms/step - loss: 0.0082 - accuracy: 0.9975\n",
      "Epoch 23/30\n",
      "1875/1875 [==============================] - 3s 2ms/step - loss: 0.0088 - accuracy: 0.9975\n",
      "Epoch 24/30\n",
      "1875/1875 [==============================] - 2s 1ms/step - loss: 0.0094 - accuracy: 0.9967\n",
      "Epoch 25/30\n",
      "1875/1875 [==============================] - 2s 1ms/step - loss: 0.0091 - accuracy: 0.9969\n",
      "Epoch 26/30\n",
      "1875/1875 [==============================] - 2s 1ms/step - loss: 0.0058 - accuracy: 0.9982\n",
      "Epoch 27/30\n",
      "1875/1875 [==============================] - 3s 2ms/step - loss: 0.0073 - accuracy: 0.9977\n",
      "Epoch 28/30\n",
      "1875/1875 [==============================] - 2s 1ms/step - loss: 0.0085 - accuracy: 0.9973\n",
      "Epoch 29/30\n",
      "1875/1875 [==============================] - 2s 1ms/step - loss: 0.0077 - accuracy: 0.9976\n",
      "Epoch 30/30\n",
      "1875/1875 [==============================] - 2s 1ms/step - loss: 0.0093 - accuracy: 0.9969\n",
      "313/313 [==============================] - 0s 704us/step\n"
     ]
    },
    {
     "data": {
      "text/plain": [
       "Text(69.0, 0.5, 'Truth')"
      ]
     },
     "execution_count": 53,
     "metadata": {},
     "output_type": "execute_result"
    },
    {
     "data": {
      "image/png": "[encoded data removed]",
      "text/plain": [
       "<Figure size 720x504 with 2 Axes>"
      ]
     },
     "metadata": {
      "needs_background": "light"
     },
     "output_type": "display_data"
    }
   ],
   "source": [
    "model = keras.Sequential([\n",
    "    keras.layers.Dense(100, input_shape=(784,),activation='relu'),\n",
    "    keras.layers.Dense(75,activation='tanh'),\n",
    "    keras.layers.Dense(50,activation='tanh'),\n",
    "    keras.layers.Dense(10,activation='sigmoid')\n",
    "])\n",
    "\n",
    "tb_call = tf.keras.callbacks.TensorBoard(log_dir='log/',histogram_freq=1    \n",
    ")\n",
    "\n",
    "model.compile(\n",
    "    optimizer='adam',\n",
    "    loss='sparse_categorical_crossentropy',\n",
    "    metrics=['accuracy']\n",
    ")\n",
    "\n",
    "\n",
    "model.fit(X_train_flattened,y_train,epochs=30,callbacks=[tb_call])\n",
    "\n",
    "\n",
    "y_predicted =model.predict(X_test_flattened)\n",
    "y_predicted_labels=[np.argmax(i) for i in y_predicted]\n",
    "cm=tf.math.confusion_matrix(labels=y_test,predictions=y_predicted_labels)\n",
    "cm\n",
    "import seaborn as sn\n",
    "plt.figure(figsize=(10,7))\n",
    "sn.heatmap(cm,annot=True,fmt='d')\n",
    "plt.xlabel('Predicted')\n",
    "plt.ylabel('Truth')"
   ]
  },
  {
   "cell_type": "code",
   "execution_count": 39,
   "id": "36d9d4c4",
   "metadata": {},
   "outputs": [
    {
     "name": "stdout",
     "output_type": "stream",
     "text": [
      "313/313 [==============================] - 0s 996us/step - loss: 0.1019 - accuracy: 0.9798\n"
     ]
    },
    {
     "data": {
      "text/plain": [
       "<tf.Tensor: shape=(10, 10), dtype=int32, numpy=\n",
       "array([[ 970,    1,    3,    0,    1,    0,    3,    1,    1,    0],\n",
       "       [   0, 1128,    0,    2,    0,    0,    1,    2,    2,    0],\n",
       "       [   1,    1, 1011,    6,    3,    0,    2,    6,    1,    1],\n",
       "       [   0,    1,    1,  994,    0,    4,    0,    4,    3,    3],\n",
       "       [   1,    0,    3,    0,  968,    1,    3,    3,    0,    3],\n",
       "       [   3,    0,    1,   10,    3,  861,    8,    3,    3,    0],\n",
       "       [   1,    2,    1,    1,    1,    2,  946,    0,    4,    0],\n",
       "       [   1,    4,    7,    2,    2,    0,    0, 1009,    0,    3],\n",
       "       [   2,    0,    6,    6,    8,    4,    2,    4,  938,    4],\n",
       "       [   3,    3,    0,    7,   12,    2,    0,    7,    2,  973]])>"
      ]
     },
     "execution_count": 39,
     "metadata": {},
     "output_type": "execute_result"
    }
   ],
   "source": [
    "model.evaluate(X_test_flattened,y_test)\n",
    "cm=tf.math.confusion_matrix(labels=y_test,predictions=y_predicted_labels)\n",
    "cm"
   ]
  },
  {
   "cell_type": "code",
   "execution_count": 40,
   "id": "5d029cc4",
   "metadata": {},
   "outputs": [
    {
     "data": {
      "text/plain": [
       "Text(69.0, 0.5, 'Truth')"
      ]
     },
     "execution_count": 40,
     "metadata": {},
     "output_type": "execute_result"
    },
    {
     "data": {
      "image/png": "[encoded data removed]",
      "text/plain": [
       "<Figure size 720x504 with 2 Axes>"
      ]
     },
     "metadata": {
      "needs_background": "light"
     },
     "output_type": "display_data"
    }
   ],
   "source": [
    "import seaborn as sn\n",
    "plt.figure(figsize=(10,7))\n",
    "sn.heatmap(cm,annot=True,fmt='d')\n",
    "plt.xlabel('Predicted')\n",
    "plt.ylabel('Truth')"
   ]
  },
  {
   "cell_type": "code",
   "execution_count": 41,
   "id": "65b76622",
   "metadata": {},
   "outputs": [
    {
     "name": "stdout",
     "output_type": "stream",
     "text": [
      "Epoch 1/10\n",
      "1875/1875 [==============================] - 3s 1ms/step - loss: 0.2501 - accuracy: 0.9255\n",
      "Epoch 2/10\n",
      "1875/1875 [==============================] - 2s 1ms/step - loss: 0.1143 - accuracy: 0.9668\n",
      "Epoch 3/10\n",
      "1875/1875 [==============================] - 2s 1ms/step - loss: 0.0859 - accuracy: 0.9753\n",
      "Epoch 4/10\n",
      "1875/1875 [==============================] - 2s 1ms/step - loss: 0.0725 - accuracy: 0.9800\n",
      "Epoch 5/10\n",
      "1875/1875 [==============================] - 2s 1ms/step - loss: 0.0618 - accuracy: 0.9831\n",
      "Epoch 6/10\n",
      "1875/1875 [==============================] - 2s 1ms/step - loss: 0.0541 - accuracy: 0.9848\n",
      "Epoch 7/10\n",
      "1875/1875 [==============================] - 2s 1ms/step - loss: 0.0480 - accuracy: 0.9873\n",
      "Epoch 8/10\n",
      "1875/1875 [==============================] - 2s 1ms/step - loss: 0.0455 - accuracy: 0.9877\n",
      "Epoch 9/10\n",
      "1875/1875 [==============================] - 2s 1ms/step - loss: 0.0394 - accuracy: 0.9897\n",
      "Epoch 10/10\n",
      "1875/1875 [==============================] - 2s 1ms/step - loss: 0.0378 - accuracy: 0.9905\n"
     ]
    },
    {
     "data": {
      "text/plain": [
       "<keras.callbacks.History at 0x1a6aa683100>"
      ]
     },
     "execution_count": 41,
     "metadata": {},
     "output_type": "execute_result"
    }
   ],
   "source": [
    "model = keras.Sequential([\n",
    "    keras.layers.Dense(100, input_shape=(784,),activation='relu'),\n",
    "    keras.layers.Dense(75,activation='relu'),\n",
    "    keras.layers.Dense(50,activation='relu'),\n",
    "    keras.layers.Dense(10,activation='sigmoid')\n",
    "])\n",
    "\n",
    "model.compile(\n",
    "    optimizer='RMSprop',\n",
    "    loss='sparse_categorical_crossentropy',\n",
    "    metrics=['accuracy']\n",
    ")\n",
    "model.fit(X_train_flattened,y_train,epochs=10)"
   ]
  },
  {
   "cell_type": "code",
   "execution_count": 42,
   "id": "beabb83f",
   "metadata": {},
   "outputs": [
    {
     "name": "stdout",
     "output_type": "stream",
     "text": [
      "313/313 [==============================] - 0s 632us/step\n"
     ]
    },
    {
     "data": {
      "text/plain": [
       "Text(69.0, 0.5, 'Truth')"
      ]
     },
     "execution_count": 42,
     "metadata": {},
     "output_type": "execute_result"
    },
    {
     "data": {
      "image/png": "[encoded data removed]",
      "text/plain": [
       "<Figure size 720x504 with 2 Axes>"
      ]
     },
     "metadata": {
      "needs_background": "light"
     },
     "output_type": "display_data"
    }
   ],
   "source": [
    "y_predicted =model.predict(X_test_flattened)\n",
    "y_predicted_labels=[np.argmax(i) for i in y_predicted]\n",
    "cm=tf.math.confusion_matrix(labels=y_test,predictions=y_predicted_labels)\n",
    "cm\n",
    "import seaborn as sn\n",
    "plt.figure(figsize=(10,7))\n",
    "sn.heatmap(cm,annot=True,fmt='d')\n",
    "plt.xlabel('Predicted')\n",
    "plt.ylabel('Truth')"
   ]
  },
  {
   "cell_type": "code",
   "execution_count": 43,
   "id": "dc1095dd",
   "metadata": {},
   "outputs": [
    {
     "name": "stdout",
     "output_type": "stream",
     "text": [
      "Epoch 1/10\n",
      "1875/1875 [==============================] - 2s 927us/step - loss: 1.4106 - accuracy: 0.6278\n",
      "Epoch 2/10\n",
      "1875/1875 [==============================] - 2s 927us/step - loss: 0.5966 - accuracy: 0.8501\n",
      "Epoch 3/10\n",
      "1875/1875 [==============================] - 2s 919us/step - loss: 0.4515 - accuracy: 0.8788\n",
      "Epoch 4/10\n",
      "1875/1875 [==============================] - 2s 931us/step - loss: 0.3947 - accuracy: 0.8927\n",
      "Epoch 5/10\n",
      "1875/1875 [==============================] - 2s 994us/step - loss: 0.3622 - accuracy: 0.9001\n",
      "Epoch 6/10\n",
      "1875/1875 [==============================] - 2s 1ms/step - loss: 0.3400 - accuracy: 0.9056\n",
      "Epoch 7/10\n",
      "1875/1875 [==============================] - 2s 935us/step - loss: 0.3233 - accuracy: 0.9097\n",
      "Epoch 8/10\n",
      "1875/1875 [==============================] - 2s 937us/step - loss: 0.3100 - accuracy: 0.9131\n",
      "Epoch 9/10\n",
      "1875/1875 [==============================] - 2s 934us/step - loss: 0.2990 - accuracy: 0.9158\n",
      "Epoch 10/10\n",
      "1875/1875 [==============================] - 2s 929us/step - loss: 0.2896 - accuracy: 0.9185\n",
      "313/313 [==============================] - 0s 650us/step\n"
     ]
    },
    {
     "data": {
      "text/plain": [
       "Text(69.0, 0.5, 'Truth')"
      ]
     },
     "execution_count": 43,
     "metadata": {},
     "output_type": "execute_result"
    },
    {
     "data": {
      "image/png": "[encoded data removed]",
      "text/plain": [
       "<Figure size 720x504 with 2 Axes>"
      ]
     },
     "metadata": {
      "needs_background": "light"
     },
     "output_type": "display_data"
    }
   ],
   "source": [
    "model = keras.Sequential([\n",
    "    keras.layers.Dense(100, input_shape=(784,),activation='relu'),\n",
    "    keras.layers.Dense(75,activation='relu'),\n",
    "    keras.layers.Dense(50,activation='relu'),\n",
    "    keras.layers.Dense(10,activation='sigmoid')\n",
    "])\n",
    "\n",
    "model.compile(\n",
    "    optimizer='Adagrad',\n",
    "    loss='sparse_categorical_crossentropy',\n",
    "    metrics=['accuracy']\n",
    ")\n",
    "model.fit(X_train_flattened,y_train,epochs=10)\n",
    "\n",
    "y_predicted =model.predict(X_test_flattened)\n",
    "y_predicted_labels=[np.argmax(i) for i in y_predicted]\n",
    "cm=tf.math.confusion_matrix(labels=y_test,predictions=y_predicted_labels)\n",
    "cm\n",
    "import seaborn as sn\n",
    "plt.figure(figsize=(10,7))\n",
    "sn.heatmap(cm,annot=True,fmt='d')\n",
    "plt.xlabel('Predicted')\n",
    "plt.ylabel('Truth')"
   ]
  },
  {
   "cell_type": "code",
   "execution_count": 44,
   "id": "d9b58974",
   "metadata": {},
   "outputs": [
    {
     "name": "stdout",
     "output_type": "stream",
     "text": [
      "Epoch 1/10\n",
      "1875/1875 [==============================] - 2s 1ms/step - loss: 2.3150 - accuracy: 0.0873\n",
      "Epoch 2/10\n",
      "1875/1875 [==============================] - 2s 992us/step - loss: 2.2488 - accuracy: 0.1732\n",
      "Epoch 3/10\n",
      "1875/1875 [==============================] - 2s 1ms/step - loss: 2.1844 - accuracy: 0.2519\n",
      "Epoch 4/10\n",
      "1875/1875 [==============================] - 2s 1ms/step - loss: 2.1142 - accuracy: 0.3054\n",
      "Epoch 5/10\n",
      "1875/1875 [==============================] - 2s 1000us/step - loss: 2.0345 - accuracy: 0.3481\n",
      "Epoch 6/10\n",
      "1875/1875 [==============================] - 2s 995us/step - loss: 1.9464 - accuracy: 0.3941\n",
      "Epoch 7/10\n",
      "1875/1875 [==============================] - 2s 985us/step - loss: 1.8515 - accuracy: 0.4448\n",
      "Epoch 8/10\n",
      "1875/1875 [==============================] - 2s 990us/step - loss: 1.7519 - accuracy: 0.4985\n",
      "Epoch 9/10\n",
      "1875/1875 [==============================] - 2s 988us/step - loss: 1.6494 - accuracy: 0.5513\n",
      "Epoch 10/10\n",
      "1875/1875 [==============================] - 2s 991us/step - loss: 1.5451 - accuracy: 0.5992\n",
      "313/313 [==============================] - 0s 730us/step - loss: 1.4761 - accuracy: 0.6283\n"
     ]
    },
    {
     "data": {
      "text/plain": [
       "<tf.Tensor: shape=(10, 10), dtype=int32, numpy=\n",
       "array([[ 960,    0,    2,    2,    1,    3,    6,    2,    4,    0],\n",
       "       [   0, 1111,    1,    3,    0,    1,    4,    2,   13,    0],\n",
       "       [  10,    3,  934,   17,   15,    0,   16,   11,   22,    4],\n",
       "       [   2,    0,   18,  922,    1,   28,    0,   15,   18,    6],\n",
       "       [   1,    1,    4,    0,  906,    0,   16,    2,    6,   46],\n",
       "       [  10,    2,    4,   37,    5,  779,   13,    7,   28,    7],\n",
       "       [  19,    3,    6,    0,   19,   10,  895,    1,    5,    0],\n",
       "       [   2,   12,   26,    7,    8,    0,    0,  941,    2,   30],\n",
       "       [   4,    9,    6,   24,    9,   22,   11,   11,  866,   12],\n",
       "       [   9,    8,    2,   12,   42,   10,    0,   18,    7,  901]])>"
      ]
     },
     "execution_count": 44,
     "metadata": {},
     "output_type": "execute_result"
    },
    {
     "data": {
      "image/png": "[encoded data removed]",
      "text/plain": [
       "<Figure size 720x504 with 2 Axes>"
      ]
     },
     "metadata": {
      "needs_background": "light"
     },
     "output_type": "display_data"
    }
   ],
   "source": [
    "model = keras.Sequential([\n",
    "    keras.layers.Dense(100, input_shape=(784,),activation='relu'),\n",
    "    keras.layers.Dense(75,activation='relu'),\n",
    "    keras.layers.Dense(50,activation='relu'),\n",
    "    keras.layers.Dense(10,activation='sigmoid')\n",
    "])\n",
    "\n",
    "model.compile(\n",
    "    optimizer='Adadelta',\n",
    "    loss='sparse_categorical_crossentropy',\n",
    "    metrics=['accuracy']\n",
    ")\n",
    "model.fit(X_train_flattened,y_train,epochs=10)\n",
    "y_predicted_labels=[np.argmax(i) for i in y_predicted]\n",
    "y_predicted_labels[:5]\n",
    "\n",
    "import seaborn as sn\n",
    "plt.figure(figsize=(10,7))\n",
    "sn.heatmap(cm,annot=True,fmt='d')\n",
    "plt.xlabel('Predicted')\n",
    "plt.ylabel('Truth')\n",
    "\n",
    "model.evaluate(X_test_flattened,y_test)\n",
    "cm=tf.math.confusion_matrix(labels=y_test,predictions=y_predicted_labels)\n",
    "cm"
   ]
  },
  {
   "cell_type": "code",
   "execution_count": 45,
   "id": "68344f40",
   "metadata": {},
   "outputs": [
    {
     "name": "stdout",
     "output_type": "stream",
     "text": [
      "Epoch 1/10\n",
      "1875/1875 [==============================] - 3s 1ms/step - loss: 0.2506 - accuracy: 0.9255\n",
      "Epoch 2/10\n",
      "1875/1875 [==============================] - 2s 1ms/step - loss: 0.1086 - accuracy: 0.9669\n",
      "Epoch 3/10\n",
      "1875/1875 [==============================] - 2s 1ms/step - loss: 0.0765 - accuracy: 0.9761\n",
      "Epoch 4/10\n",
      "1875/1875 [==============================] - 2s 1ms/step - loss: 0.0616 - accuracy: 0.9811\n",
      "Epoch 5/10\n",
      "1875/1875 [==============================] - 2s 1ms/step - loss: 0.0491 - accuracy: 0.9840\n",
      "Epoch 6/10\n",
      "1875/1875 [==============================] - 2s 1ms/step - loss: 0.0430 - accuracy: 0.9859\n",
      "Epoch 7/10\n",
      "1875/1875 [==============================] - 2s 1ms/step - loss: 0.0358 - accuracy: 0.9883\n",
      "Epoch 8/10\n",
      "1875/1875 [==============================] - 2s 1ms/step - loss: 0.0318 - accuracy: 0.9898\n",
      "Epoch 9/10\n",
      "1875/1875 [==============================] - 2s 1ms/step - loss: 0.0277 - accuracy: 0.9912\n",
      "Epoch 10/10\n",
      "1875/1875 [==============================] - 2s 1ms/step - loss: 0.0252 - accuracy: 0.9915\n",
      "313/313 [==============================] - 0s 652us/step\n"
     ]
    },
    {
     "data": {
      "text/plain": [
       "Text(69.0, 0.5, 'Truth')"
      ]
     },
     "execution_count": 45,
     "metadata": {},
     "output_type": "execute_result"
    },
    {
     "data": {
      "image/png": "[encoded data removed]",
      "text/plain": [
       "<Figure size 720x504 with 2 Axes>"
      ]
     },
     "metadata": {
      "needs_background": "light"
     },
     "output_type": "display_data"
    }
   ],
   "source": [
    "model = keras.Sequential([\n",
    "    keras.layers.Dense(100, input_shape=(784,),activation='relu'),\n",
    "    keras.layers.Dense(75,activation='relu'),\n",
    "    keras.layers.Dense(50,activation='relu'),\n",
    "    keras.layers.Dense(10,activation='sigmoid')\n",
    "])\n",
    "\n",
    "model.compile(\n",
    "    optimizer='Nadam',\n",
    "    loss='sparse_categorical_crossentropy',\n",
    "    metrics=['accuracy']\n",
    ")\n",
    "model.fit(X_train_flattened,y_train,epochs=10)\n",
    "y_predicted =model.predict(X_test_flattened)\n",
    "y_predicted_labels=[np.argmax(i) for i in y_predicted]\n",
    "cm=tf.math.confusion_matrix(labels=y_test,predictions=y_predicted_labels)\n",
    "cm\n",
    "import seaborn as sn\n",
    "plt.figure(figsize=(10,7))\n",
    "sn.heatmap(cm,annot=True,fmt='d')\n",
    "plt.xlabel('Predicted')\n",
    "plt.ylabel('Truth')"
   ]
  },
  {
   "cell_type": "code",
   "execution_count": 46,
   "id": "31615a8f",
   "metadata": {},
   "outputs": [
    {
     "name": "stdout",
     "output_type": "stream",
     "text": [
      "Epoch 1/10\n",
      "1875/1875 [==============================] - 2s 973us/step - loss: 0.3738 - accuracy: 0.8934\n",
      "Epoch 2/10\n",
      "1875/1875 [==============================] - 2s 964us/step - loss: 0.1742 - accuracy: 0.9486\n",
      "Epoch 3/10\n",
      "1875/1875 [==============================] - 2s 962us/step - loss: 0.1285 - accuracy: 0.9626\n",
      "Epoch 4/10\n",
      "1875/1875 [==============================] - 2s 950us/step - loss: 0.1041 - accuracy: 0.9693\n",
      "Epoch 5/10\n",
      "1875/1875 [==============================] - 2s 1ms/step - loss: 0.0868 - accuracy: 0.9744\n",
      "Epoch 6/10\n",
      "1875/1875 [==============================] - 2s 1ms/step - loss: 0.0733 - accuracy: 0.9780\n",
      "Epoch 7/10\n",
      "1875/1875 [==============================] - 2s 960us/step - loss: 0.0639 - accuracy: 0.9810\n",
      "Epoch 8/10\n",
      "1875/1875 [==============================] - 2s 1ms/step - loss: 0.0552 - accuracy: 0.9833\n",
      "Epoch 9/10\n",
      "1875/1875 [==============================] - 2s 988us/step - loss: 0.0489 - accuracy: 0.9850\n",
      "Epoch 10/10\n",
      "1875/1875 [==============================] - 2s 965us/step - loss: 0.0429 - accuracy: 0.9869\n",
      "313/313 [==============================] - 0s 731us/step - loss: 0.0798 - accuracy: 0.9749\n"
     ]
    },
    {
     "data": {
      "text/plain": [
       "<tf.Tensor: shape=(10, 10), dtype=int32, numpy=\n",
       "array([[ 968,    0,    1,    1,    0,    1,    7,    2,    0,    0],\n",
       "       [   0, 1119,    4,    2,    0,    2,    2,    3,    3,    0],\n",
       "       [   3,    0, 1003,   14,    0,    1,    3,    7,    1,    0],\n",
       "       [   0,    0,    2,  987,    0,   11,    0,    1,    6,    3],\n",
       "       [   0,    1,    5,    0,  946,    1,    3,    2,    1,   23],\n",
       "       [   1,    0,    0,    7,    2,  866,    7,    0,    6,    3],\n",
       "       [   3,    2,    2,    1,    4,    5,  940,    0,    1,    0],\n",
       "       [   0,    0,    6,    3,    2,    0,    0, 1008,    2,    7],\n",
       "       [   0,    0,    2,   15,    5,    3,    2,    4,  940,    3],\n",
       "       [   1,    2,    0,    6,   13,    3,    1,    7,    6,  970]])>"
      ]
     },
     "execution_count": 46,
     "metadata": {},
     "output_type": "execute_result"
    },
    {
     "data": {
      "image/png": "[encoded data removed]",
      "text/plain": [
       "<Figure size 720x504 with 2 Axes>"
      ]
     },
     "metadata": {
      "needs_background": "light"
     },
     "output_type": "display_data"
    }
   ],
   "source": [
    "model = keras.Sequential([\n",
    "    keras.layers.Dense(100, input_shape=(784,),activation='relu'),\n",
    "    keras.layers.Dense(75,activation='relu'),\n",
    "    keras.layers.Dense(50,activation='relu'),\n",
    "    keras.layers.Dense(10,activation='sigmoid')\n",
    "])\n",
    "\n",
    "model.compile(\n",
    "    optimizer='Adamax',\n",
    "    loss='sparse_categorical_crossentropy',\n",
    "    metrics=['accuracy']\n",
    ")\n",
    "model.fit(X_train_flattened,y_train,epochs=10)\n",
    "\n",
    "y_predicted_labels=[np.argmax(i) for i in y_predicted]\n",
    "y_predicted_labels[:5]\n",
    "\n",
    "import seaborn as sn\n",
    "plt.figure(figsize=(10,7))\n",
    "sn.heatmap(cm,annot=True,fmt='d')\n",
    "plt.xlabel('Predicted')\n",
    "plt.ylabel('Truth')\n",
    "model.evaluate(X_test_flattened,y_test)\n",
    "cm=tf.math.confusion_matrix(labels=y_test,predictions=y_predicted_labels)\n",
    "cm"
   ]
  },
  {
   "cell_type": "code",
   "execution_count": 47,
   "id": "e4bb4f44",
   "metadata": {},
   "outputs": [
    {
     "name": "stdout",
     "output_type": "stream",
     "text": [
      "Epoch 1/10\n",
      "1875/1875 [==============================] - 3s 1ms/step - loss: 2.3024 - accuracy: 0.1118\n",
      "Epoch 2/10\n",
      "1875/1875 [==============================] - 2s 1ms/step - loss: 2.3022 - accuracy: 0.1124\n",
      "Epoch 3/10\n",
      "1875/1875 [==============================] - 2s 1ms/step - loss: 2.3021 - accuracy: 0.1124\n",
      "Epoch 4/10\n",
      "1875/1875 [==============================] - 2s 1ms/step - loss: 2.3020 - accuracy: 0.1124\n",
      "Epoch 5/10\n",
      "1875/1875 [==============================] - 2s 1ms/step - loss: 2.3019 - accuracy: 0.1124\n",
      "Epoch 6/10\n",
      "1875/1875 [==============================] - 2s 1ms/step - loss: 2.3019 - accuracy: 0.1124\n",
      "Epoch 7/10\n",
      "1875/1875 [==============================] - 2s 1ms/step - loss: 2.3018 - accuracy: 0.1124\n",
      "Epoch 8/10\n",
      "1875/1875 [==============================] - 2s 1ms/step - loss: 2.3018 - accuracy: 0.1124\n",
      "Epoch 9/10\n",
      "1875/1875 [==============================] - 2s 1ms/step - loss: 2.3017 - accuracy: 0.1124\n",
      "Epoch 10/10\n",
      "1875/1875 [==============================] - 2s 1ms/step - loss: 2.3017 - accuracy: 0.1124\n",
      "313/313 [==============================] - 0s 748us/step\n"
     ]
    },
    {
     "data": {
      "text/plain": [
       "Text(69.0, 0.5, 'Truth')"
      ]
     },
     "execution_count": 47,
     "metadata": {},
     "output_type": "execute_result"
    },
    {
     "data": {
      "image/png": "[encoded data removed]",
      "text/plain": [
       "<Figure size 720x504 with 2 Axes>"
      ]
     },
     "metadata": {
      "needs_background": "light"
     },
     "output_type": "display_data"
    }
   ],
   "source": [
    "model = keras.Sequential([\n",
    "    keras.layers.Dense(100, input_shape=(784,),activation='relu'),\n",
    "    keras.layers.Dense(75,activation='relu'),\n",
    "    keras.layers.Dense(50,activation='relu'),\n",
    "    keras.layers.Dense(10,activation='sigmoid')\n",
    "])\n",
    "\n",
    "model.compile(\n",
    "    optimizer='Ftrl',\n",
    "    loss='sparse_categorical_crossentropy',\n",
    "    metrics=['accuracy']\n",
    ")\n",
    "model.fit(X_train_flattened,y_train,epochs=10)\n",
    "\n",
    "y_predicted =model.predict(X_test_flattened)\n",
    "y_predicted_labels=[np.argmax(i) for i in y_predicted]\n",
    "cm=tf.math.confusion_matrix(labels=y_test,predictions=y_predicted_labels)\n",
    "cm\n",
    "import seaborn as sn\n",
    "plt.figure(figsize=(10,7))\n",
    "sn.heatmap(cm,annot=True,fmt='d')\n",
    "plt.xlabel('Predicted')\n",
    "plt.ylabel('Truth')"
   ]
  }
 ],
 "metadata": {
  "kernelspec": {
   "display_name": "Python 3 (ipykernel)",
   "language": "python",
   "name": "python3"
  },
  "language_info": {
   "codemirror_mode": {
    "name": "ipython",
    "version": 3
   },
   "file_extension": ".py",
   "mimetype": "text/x-python",
   "name": "python",
   "nbconvert_exporter": "python",
   "pygments_lexer": "ipython3",
   "version": "3.10.8"
  }
 },
 "nbformat": 4,
 "nbformat_minor": 5
}
